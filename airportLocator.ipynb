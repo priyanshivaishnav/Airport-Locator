import random

def main(airports, cities):
    iter = 60
    obj_values = [0 for _ in range(iter)]
    for i in range(iter):
        neighbors = assign_cities(cities, airports)
        airports = update(neighbors, airports)
        neighbors = assign_cities(cities, airports)
        obj_values[i] = (i, obj_func(neighbors))
    print(airports)
    zip_values = zip(*obj_values)
    plt.scatter(*zip_values, marker='.', color='b', label='Objective value')
    plt.ylabel('Objective')
    plt.xlabel('Epoch')
    plt.show()
    zip_cities = zip(*cities)
    plt.scatter(*zip_cities, marker='+', color='b', label='Cities')
    zip_airs = zip(*airports)
    plt.scatter(*zip_airs, marker='*', color='r', s=100, label='Airports')
    plt.legend()
    plt.show()


def update(neighbors, airports):
    alpha = 0.0005
    grad = gradiant(neighbors)
    return [(airports[i][0] - alpha * grad[i][0], airports[i][1] - alpha * grad[i][1]) for i in range(3)]


def assign_cities(cities, airports):
    neighbors = dict()
    for air in airports:
        neighbors[air] = []
    for xc, yc in cities:
        distances = []
        for xi, yi in airports:
            x = abs(xi - xc)
            y = abs(yi - yc)
            dis = sqrt(x ** 2 + y ** 2)
            distances.append(dis)
        m = min(distances)
        neighbors[airports[distances.index(m)]].append((xc, yc))
    return neighbors


def obj_func(neighbors):
    objective_value = 0
    for air, C in neighbors.items():
        for xc, yc in C:
            objective_value += ((air[0] - xc) ** 2) + ((air[1] - yc) ** 2)
    return objective_value


def gradiant(neighbors):
    gra = [[0, 0], [0, 0], [0, 0]]
    i = 0
    for air, C in neighbors.items():
        for xc, yc in C:
            gra[i][0] += (air[0] - xc) * 2
            gra[i][1] += (air[1] - yc) * 2
        i = i + 1
    return gra


num_city = 100
num_air = 3
cities = set()
airports = []

for i in range(num_city):
    x = random.random()
    y = random.random()
    cities.add((x, y))

for i in range(num_air):
    x = random.random()
    y = random.random()
    airports.append((x, y))

import matplotlib.pyplot as plt
from math import sqrt

print(airports)
zip_cities = zip(*cities)
plt.scatter(*zip_cities, marker='+', color='b', label='Cities')
zip_airs = zip(*airports)
plt.scatter(*zip_airs, marker='*', color='r', s=100, label='Airports')
plt.legend()
plt.show()
main(airports, cities)
